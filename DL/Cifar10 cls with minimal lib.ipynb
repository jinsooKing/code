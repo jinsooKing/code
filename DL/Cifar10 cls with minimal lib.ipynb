{
 "cells": [
  {
   "cell_type": "code",
   "execution_count": 2,
   "id": "8f6434e6",
   "metadata": {},
   "outputs": [],
   "source": [
    "import numpy as np\n",
    "import torch.nn as nn\n",
    "import torch\n",
    "import math\n",
    "import matplotlib.pyplot as plt\n",
    "import cv2\n",
    "import csv\n",
    "import tensorflow as tf\n",
    "import torchvision\n",
    "import torchvision.transforms as transforms\n",
    "import torch.nn.functional as F\n",
    "import sys"
   ]
  },
  {
   "cell_type": "code",
   "execution_count": 3,
   "id": "621bdef8",
   "metadata": {},
   "outputs": [],
   "source": [
    "img_path = 'test_image\\L.jpeg'\n",
    "\n",
    "test_img = cv2.imread(img_path, cv2.IMREAD_COLOR)\n",
    "\n",
    "cv2.imshow('loaded image', test_img)\n",
    "\n",
    "cv2.waitKey(0)\n",
    "\n",
    "cv2.destroyAllWindows()"
   ]
  },
  {
   "cell_type": "code",
   "execution_count": 4,
   "id": "82985f34",
   "metadata": {},
   "outputs": [
    {
     "name": "stdout",
     "output_type": "stream",
     "text": [
      "(400, 400, 3)\n",
      "uint8\n",
      "<memory at 0x00000298AAE25E40>\n",
      "<built-in method astype of numpy.ndarray object at 0x00000298AA826190>\n"
     ]
    }
   ],
   "source": [
    "print(test_img.shape)\n",
    "print(test_img.dtype)\n",
    "print(test_img.data)\n",
    "print(test_img.astype)"
   ]
  },
  {
   "cell_type": "code",
   "execution_count": 5,
   "id": "7b402131",
   "metadata": {},
   "outputs": [
    {
     "name": "stdout",
     "output_type": "stream",
     "text": [
      "[[[ 77 105 112]\n",
      "  [ 80 108 115]\n",
      "  [ 86 112 118]\n",
      "  ...\n",
      "  [ 25  24  26]\n",
      "  [ 26  25  27]\n",
      "  [ 27  26  28]]]\n",
      "tensor([[[ 77, 105, 112],\n",
      "         [ 80, 108, 115],\n",
      "         [ 86, 112, 118],\n",
      "         ...,\n",
      "         [ 25,  24,  26],\n",
      "         [ 26,  25,  27],\n",
      "         [ 27,  26,  28]]], dtype=torch.uint8)\n",
      "tensor([[[0.3020, 0.4118, 0.4392],\n",
      "         [0.3137, 0.4235, 0.4510],\n",
      "         [0.3373, 0.4392, 0.4627],\n",
      "         ...,\n",
      "         [0.0980, 0.0941, 0.1020],\n",
      "         [0.1020, 0.0980, 0.1059],\n",
      "         [0.1059, 0.1020, 0.1098]]])\n",
      "tensor([[[0.3020, 0.4118, 0.4392],\n",
      "         [0.3216, 0.4314, 0.4588],\n",
      "         [0.3451, 0.4549, 0.4824],\n",
      "         ...,\n",
      "         [0.6667, 0.7686, 0.8235],\n",
      "         [0.6627, 0.7686, 0.8235],\n",
      "         [0.6627, 0.7686, 0.8235]]])\n",
      "tensor([[[0.3020, 0.4118, 0.4392],\n",
      "         [0.3137, 0.4235, 0.4510],\n",
      "         [0.3373, 0.4392, 0.4627],\n",
      "         ...,\n",
      "         [0.0980, 0.0941, 0.1020],\n",
      "         [0.1020, 0.0980, 0.1059],\n",
      "         [0.1059, 0.1020, 0.1098]]])\n"
     ]
    },
    {
     "name": "stderr",
     "output_type": "stream",
     "text": [
      "C:\\Users\\zkdls\\AppData\\Local\\Temp\\ipykernel_23468\\2547755168.py:11: UserWarning: The use of `x.T` on tensors of dimension other than 2 to reverse their shape is deprecated and it will throw an error in a future release. Consider `x.mT` to transpose batches of matrices or `x.permute(*torch.arange(x.ndim - 1, -1, -1))` to reverse the dimensions of a tensor. (Triggered internally at C:\\actions-runner\\_work\\pytorch\\pytorch\\pytorch\\aten\\src\\ATen\\native\\TensorShape.cpp:3729.)\n",
      "  print(test_img_tensor2.T[:1])\n"
     ]
    }
   ],
   "source": [
    "print(test_img[:1])\n",
    "\n",
    "test_img_tensor = torch.tensor(test_img)\n",
    "print(test_img_tensor[:1])\n",
    "\n",
    "test_img_tensor = test_img_tensor / 255\n",
    "print(test_img_tensor[:1])\n",
    "\n",
    "to_tensor = transforms.ToTensor()\n",
    "test_img_tensor2 = to_tensor(test_img)\n",
    "print(test_img_tensor2.T[:1])\n",
    "print(test_img_tensor2.permute(1,2,0)[:1])\n"
   ]
  },
  {
   "cell_type": "code",
   "execution_count": 6,
   "id": "bb9e4caf",
   "metadata": {},
   "outputs": [],
   "source": [
    "transform = transforms.Compose([\n",
    "    transforms.ToTensor(),\n",
    "    transforms.Normalize((0.5, 0.5, 0.5), (0.5, 0.5, 0.5))\n",
    "])"
   ]
  },
  {
   "cell_type": "markdown",
   "id": "60a7ae95",
   "metadata": {},
   "source": [
    "1. 이미지를 cv2.imread(path, cv2.imread_color) 등을 통해 읽으면 nd.array 형태로 저장됨.\n",
    "2. ToTensor는 PIL 또는 ndarray를 C * H * W 형태로 치환하고 255로 나눠 정규화해줌.\n",
    "3. pytorch에서 blabla.T 처럼 전치하는 것은 위험함. .T는 마지막 두차원만 전치시켜줌.\n",
    "    예를 들어 (C, H, W) 형태의 텐서를 .T하면 (C, W, H)가 됨. 즉 원하는 차원변경이 아닐 수 있다.\n",
    "    따라서, .permute(*dims) 함수를 사용해 전치시키는 습관이 필요하다.\n"
   ]
  },
  {
   "cell_type": "code",
   "execution_count": 7,
   "id": "861b68ab",
   "metadata": {},
   "outputs": [
    {
     "name": "stderr",
     "output_type": "stream",
     "text": [
      "100.0%\n"
     ]
    }
   ],
   "source": [
    "download_path = 'test_image'\n",
    "\n",
    "trainset= torchvision.datasets.CIFAR10(root=download_path, train=True,\n",
    "                                      download=True, transform = transform)\n",
    "\n",
    "testset= torchvision.datasets.CIFAR10(root=download_path, train=False,\n",
    "                                      download=True, transform = transform)\n"
   ]
  },
  {
   "cell_type": "code",
   "execution_count": null,
   "id": "aa7c0485",
   "metadata": {},
   "outputs": [
    {
     "data": {
      "text/plain": [
       "tuple"
      ]
     },
     "execution_count": 18,
     "metadata": {},
     "output_type": "execute_result"
    }
   ],
   "source": [
    "trainloader = torch.utils.data.DataLoader(trainset, batch_size=4,\n",
    "                                          shuffle=True, num_workers=2)\n",
    "\n",
    "testloader = torch.utils.data.DataLoader(testset, batch_size=4,\n",
    "                                         shuffle=False, num_workers=2)\n",
    "\n",
    "classes = ('airplane', 'automobile', 'bird', 'cat',\n",
    "           'deer', 'dog', 'frog', 'horse', 'ship', 'truck')\n"
   ]
  },
  {
   "cell_type": "code",
   "execution_count": 9,
   "id": "894c43c6",
   "metadata": {},
   "outputs": [
    {
     "name": "stdout",
     "output_type": "stream",
     "text": [
      "torch.Size([3, 32, 32])\n"
     ]
    }
   ],
   "source": [
    "print(trainset[0][0].shape)"
   ]
  },
  {
   "cell_type": "code",
   "execution_count": 10,
   "id": "d988929c",
   "metadata": {},
   "outputs": [
    {
     "name": "stderr",
     "output_type": "stream",
     "text": [
      "Clipping input data to the valid range for imshow with RGB data ([0..1] for floats or [0..255] for integers). Got range [-0.9764706..0.9764706].\n"
     ]
    },
    {
     "name": "stdout",
     "output_type": "stream",
     "text": [
      "bird  deer  horse cat  \n"
     ]
    },
    {
     "data": {
      "image/png": "[encoded data removed]",
      "text/plain": [
       "<Figure size 640x480 with 1 Axes>"
      ]
     },
     "metadata": {},
     "output_type": "display_data"
    }
   ],
   "source": [
    "dataiter = iter(trainloader)\n",
    "images, labels = next(dataiter)\n",
    "\n",
    "img_grid = torchvision.utils.make_grid(images) # 역정규화\n",
    "npimg = img_grid.numpy() # matplotlib을 쓰기 위해 numpy로 변환\n",
    "\n",
    "plt.imshow(np.transpose(npimg, (1,2,0))) # matplolib은 (height, width, channel)을 입력으로 받기 때문에 tensor (channel, height, width)을 변환\n",
    "print(' '.join(f'{classes[labels[j]]:5s}' for j in range(4)))\n",
    "\n",
    "plt.show()"
   ]
  },
  {
   "cell_type": "code",
   "execution_count": 23,
   "id": "15700d42",
   "metadata": {},
   "outputs": [
    {
     "data": {
      "text/plain": [
       "torch.Size([4, 3, 32, 32])"
      ]
     },
     "execution_count": 23,
     "metadata": {},
     "output_type": "execute_result"
    }
   ],
   "source": [
    "images.shape"
   ]
  },
  {
   "cell_type": "code",
   "execution_count": 9,
   "id": "f8e1e67a",
   "metadata": {},
   "outputs": [],
   "source": [
    "# 1. conv2d(input_map, kernels, bias, stride)\n",
    "# 2. max_pooling2d(input_map, pool_size, stride)\n",
    "# 3. relu(x)\n",
    "# 4. flatten(x)\n",
    "# 5. dense(x, weights, bias)"
   ]
  },
  {
   "cell_type": "code",
   "execution_count": 35,
   "id": "a6ff5033",
   "metadata": {},
   "outputs": [],
   "source": [
    "\"\"\"\n",
    "dataiter = iter(trainloader)\n",
    "images, labels = next(dataiter)\n",
    "\n",
    "\"\"\"\n",
    "\n",
    "class CNN(nn.Module):\n",
    "    def __init__(self, num_classes = 10):\n",
    "        super(CNN, self).__init__()\n",
    "        self.conv1 = nn.Conv2d(in_channels=3, out_channels=32, kernel_size=3, stride=1, padding=1)\n",
    "        self.bn1 = nn.BatchNorm2d(num_features=32)\n",
    "        self.pool1 = nn.MaxPool2d(kernel_size=2, stride=2)\n",
    "        \n",
    "        self.conv2 = nn.Conv2d(in_channels=32, out_channels=64, kernel_size=3, padding=1, stride=1)\n",
    "        self.bn2 = nn.BatchNorm2d(num_features=64)\n",
    "        self.pool2 = nn.MaxPool2d(kernel_size=2, stride=2)\n",
    "        \n",
    "        self.conv3 = nn.Conv2d(in_channels=64, out_channels=128, kernel_size=3, padding=1, stride=1)\n",
    "        self.bn3 = nn.BatchNorm2d(num_features=128)\n",
    "        self.pool3 = nn.MaxPool2d(kernel_size=2, stride=2)\n",
    "        \n",
    "        self._fc1_input_features = 128 * 4 * 4\n",
    "        self.fc1 = nn.Linear(self._fc1_input_features, out_features=512)\n",
    "        self.dropout = nn.Dropout(p=0.5)\n",
    "        self.fc2 = nn.Linear(in_features=512, out_features=classes)\n",
    "        \n",
    "    def forward(self, x):\n",
    "        x = self.conv1(x)\n",
    "        x = self.bn1(x)\n",
    "        x = F.relu(x)\n",
    "        x = self.pool1(x)\n",
    "        \n",
    "        x = self.conv2(x)\n",
    "        x = self.bn2(x)\n",
    "        x = F.relu(x)\n",
    "        x = self.pool2\n",
    "        \n",
    "        x = self.conv3(x)\n",
    "        x = self.bn3(x)\n",
    "        x = F.relu(x)\n",
    "        x = self.pool3(x)\n",
    "        \n",
    "        x = torch.flatten(x, start_dim=1)\n",
    "        x = self.fc1(x)\n",
    "        x = F.relu(x)\n",
    "        x = self.dropout(x)\n",
    "        \n",
    "        x = self.fc2(x)\n",
    "        \n",
    "        return x\n",
    "\n"
   ]
  },
  {
   "cell_type": "code",
   "execution_count": 34,
   "id": "d8ab1046",
   "metadata": {},
   "outputs": [
    {
     "name": "stdout",
     "output_type": "stream",
     "text": [
      "Using device: cuda\n"
     ]
    },
    {
     "ename": "TypeError",
     "evalue": "empty() received an invalid combination of arguments - got (tuple, dtype=NoneType, device=NoneType), but expected one of:\n * (tuple of ints size, *, tuple of names names, torch.memory_format memory_format = None, torch.dtype dtype = None, torch.layout layout = None, torch.device device = None, bool pin_memory = False, bool requires_grad = False)\n * (tuple of ints size, *, torch.memory_format memory_format = None, Tensor out = None, torch.dtype dtype = None, torch.layout layout = None, torch.device device = None, bool pin_memory = False, bool requires_grad = False)\n",
     "output_type": "error",
     "traceback": [
      "\u001b[1;31m---------------------------------------------------------------------------\u001b[0m",
      "\u001b[1;31mTypeError\u001b[0m                                 Traceback (most recent call last)",
      "Cell \u001b[1;32mIn[34], line 7\u001b[0m\n\u001b[0;32m      4\u001b[0m \u001b[38;5;28mprint\u001b[39m(\u001b[38;5;124mf\u001b[39m\u001b[38;5;124m\"\u001b[39m\u001b[38;5;124mUsing device: \u001b[39m\u001b[38;5;132;01m{\u001b[39;00mdevice\u001b[38;5;132;01m}\u001b[39;00m\u001b[38;5;124m\"\u001b[39m)\n\u001b[0;32m      6\u001b[0m \u001b[38;5;66;03m# 모델 인스턴스 생성 및 디바이스로 이동\u001b[39;00m\n\u001b[1;32m----> 7\u001b[0m model \u001b[38;5;241m=\u001b[39m \u001b[43mCNN\u001b[49m\u001b[43m(\u001b[49m\u001b[43m)\u001b[49m\u001b[38;5;241m.\u001b[39mto(device)\n\u001b[0;32m      8\u001b[0m \u001b[38;5;28mprint\u001b[39m(\u001b[38;5;124m\"\u001b[39m\u001b[38;5;130;01m\\n\u001b[39;00m\u001b[38;5;124mModel Architecture:\u001b[39m\u001b[38;5;124m\"\u001b[39m)\n\u001b[0;32m      9\u001b[0m \u001b[38;5;28mprint\u001b[39m(model)\n",
      "Cell \u001b[1;32mIn[32], line 25\u001b[0m, in \u001b[0;36mCNN.__init__\u001b[1;34m(self, num_classes)\u001b[0m\n\u001b[0;32m     23\u001b[0m \u001b[38;5;28mself\u001b[39m\u001b[38;5;241m.\u001b[39mfc1 \u001b[38;5;241m=\u001b[39m nn\u001b[38;5;241m.\u001b[39mLinear(\u001b[38;5;28mself\u001b[39m\u001b[38;5;241m.\u001b[39m_fc1_input_features, out_features\u001b[38;5;241m=\u001b[39m\u001b[38;5;241m512\u001b[39m)\n\u001b[0;32m     24\u001b[0m \u001b[38;5;28mself\u001b[39m\u001b[38;5;241m.\u001b[39mdropout \u001b[38;5;241m=\u001b[39m nn\u001b[38;5;241m.\u001b[39mDropout(p\u001b[38;5;241m=\u001b[39m\u001b[38;5;241m0.5\u001b[39m)\n\u001b[1;32m---> 25\u001b[0m \u001b[38;5;28mself\u001b[39m\u001b[38;5;241m.\u001b[39mfc2 \u001b[38;5;241m=\u001b[39m \u001b[43mnn\u001b[49m\u001b[38;5;241;43m.\u001b[39;49m\u001b[43mLinear\u001b[49m\u001b[43m(\u001b[49m\u001b[43min_features\u001b[49m\u001b[38;5;241;43m=\u001b[39;49m\u001b[38;5;241;43m512\u001b[39;49m\u001b[43m,\u001b[49m\u001b[43m \u001b[49m\u001b[43mout_features\u001b[49m\u001b[38;5;241;43m=\u001b[39;49m\u001b[43mclasses\u001b[49m\u001b[43m)\u001b[49m\n",
      "File \u001b[1;32mc:\\Users\\zkdls\\anaconda3\\envs\\jinai\\lib\\site-packages\\torch\\nn\\modules\\linear.py:106\u001b[0m, in \u001b[0;36mLinear.__init__\u001b[1;34m(self, in_features, out_features, bias, device, dtype)\u001b[0m\n\u001b[0;32m    103\u001b[0m \u001b[38;5;28mself\u001b[39m\u001b[38;5;241m.\u001b[39min_features \u001b[38;5;241m=\u001b[39m in_features\n\u001b[0;32m    104\u001b[0m \u001b[38;5;28mself\u001b[39m\u001b[38;5;241m.\u001b[39mout_features \u001b[38;5;241m=\u001b[39m out_features\n\u001b[0;32m    105\u001b[0m \u001b[38;5;28mself\u001b[39m\u001b[38;5;241m.\u001b[39mweight \u001b[38;5;241m=\u001b[39m Parameter(\n\u001b[1;32m--> 106\u001b[0m     torch\u001b[38;5;241m.\u001b[39mempty((out_features, in_features), \u001b[38;5;241m*\u001b[39m\u001b[38;5;241m*\u001b[39mfactory_kwargs)\n\u001b[0;32m    107\u001b[0m )\n\u001b[0;32m    108\u001b[0m \u001b[38;5;28;01mif\u001b[39;00m bias:\n\u001b[0;32m    109\u001b[0m     \u001b[38;5;28mself\u001b[39m\u001b[38;5;241m.\u001b[39mbias \u001b[38;5;241m=\u001b[39m Parameter(torch\u001b[38;5;241m.\u001b[39mempty(out_features, \u001b[38;5;241m*\u001b[39m\u001b[38;5;241m*\u001b[39mfactory_kwargs))\n",
      "\u001b[1;31mTypeError\u001b[0m: empty() received an invalid combination of arguments - got (tuple, dtype=NoneType, device=NoneType), but expected one of:\n * (tuple of ints size, *, tuple of names names, torch.memory_format memory_format = None, torch.dtype dtype = None, torch.layout layout = None, torch.device device = None, bool pin_memory = False, bool requires_grad = False)\n * (tuple of ints size, *, torch.memory_format memory_format = None, Tensor out = None, torch.dtype dtype = None, torch.layout layout = None, torch.device device = None, bool pin_memory = False, bool requires_grad = False)\n"
     ]
    }
   ],
   "source": [
    "if __name__ == '__main__':\n",
    "    # 사용 가능한 디바이스 설정 (GPU 우선)\n",
    "    device = torch.device(\"cuda\" if torch.cuda.is_available() else \"cpu\")\n",
    "    print(f\"Using device: {device}\")\n",
    "\n",
    "    # 모델 인스턴스 생성 및 디바이스로 이동\n",
    "    model = CNN().to(device)\n",
    "    print(\"\\nModel Architecture:\")\n",
    "    print(model)\n",
    "\n",
    "    # 모델 구조 요약 (torchsummary 라이브러리 필요: pip install torchsummary)\n",
    "    try:\n",
    "        from torchsummary import summary\n",
    "        print(\"\\nModel Summary:\")\n",
    "        # summary 함수에는 모델과 입력 데이터의 크기를 전달해야 합니다.\n",
    "        summary(model, input_size=(3, 32, 32))\n",
    "    except ImportError:\n",
    "        print(\"\\n(Install torchsummary for model summary: pip install torchsummary)\")\n",
    "\n",
    "\n",
    "    # 임의의 더미 입력 데이터 생성 (배치 크기 4)\n",
    "    dummy_input = torch.randn(4, 3, 32, 32).to(device)\n",
    "\n",
    "    # 모델 예측 수행\n",
    "    output = model(dummy_input)\n",
    "\n",
    "    print(f\"\\nInput shape: {dummy_input.shape}\")\n",
    "    print(f\"Output shape: {output.shape}\") # 출력 형태: (배치 크기, 클래스 개수) = (4, 10)\n",
    "    print(\"Output (logits) example for first sample:\")\n",
    "    print(output[0])"
   ]
  },
  {
   "cell_type": "code",
   "execution_count": null,
   "id": "f9a12d29",
   "metadata": {},
   "outputs": [],
   "source": []
  }
 ],
 "metadata": {
  "kernelspec": {
   "display_name": "jinai",
   "language": "python",
   "name": "python3"
  },
  "language_info": {
   "codemirror_mode": {
    "name": "ipython",
    "version": 3
   },
   "file_extension": ".py",
   "mimetype": "text/x-python",
   "name": "python",
   "nbconvert_exporter": "python",
   "pygments_lexer": "ipython3",
   "version": "3.10.11"
  }
 },
 "nbformat": 4,
 "nbformat_minor": 5
}
