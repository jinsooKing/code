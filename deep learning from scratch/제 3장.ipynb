{
 "cells": [
  {
   "cell_type": "code",
   "execution_count": 87,
   "id": "60a5441d",
   "metadata": {},
   "outputs": [],
   "source": [
    "import numpy as np\n",
    "import tensorflow as tf\n",
    "from tensorflow import keras\n",
    "from PIL import Image\n",
    "import torch.nn as nn\n",
    "import torch\n",
    "import math\n",
    "import matplotlib.pyplot as plt\n",
    "import cv2\n",
    "import csv\n",
    "import torchvision\n",
    "import torch.nn.functional as F\n",
    "import sys\n",
    "from torchvision import datasets, transforms"
   ]
  },
  {
   "cell_type": "code",
   "execution_count": 2,
   "id": "a1cbbba0",
   "metadata": {},
   "outputs": [],
   "source": [
    "def stair_funciton(x):\n",
    "    if x > 0 :\n",
    "        return 1\n",
    "    else:\n",
    "        return 0"
   ]
  },
  {
   "cell_type": "code",
   "execution_count": 3,
   "id": "676d48b1",
   "metadata": {},
   "outputs": [
    {
     "data": {
      "text/plain": [
       "array([[0.52222103, 0.74348502, 0.30337512],\n",
       "       [0.59590893, 0.59240379, 0.95236787]])"
      ]
     },
     "execution_count": 3,
     "metadata": {},
     "output_type": "execute_result"
    }
   ],
   "source": [
    "a = np.random.rand(2,3)\n",
    "\n",
    "a"
   ]
  },
  {
   "cell_type": "code",
   "execution_count": 4,
   "id": "067108cc",
   "metadata": {},
   "outputs": [
    {
     "name": "stdout",
     "output_type": "stream",
     "text": [
      "계단함수는 배열을 입력으로 받을 수 없다.\n"
     ]
    }
   ],
   "source": [
    "if ValueError:\n",
    "    print(\"계단함수는 배열을 입력으로 받을 수 없다.\")\n",
    "else:\n",
    "    stair_funciton(a)"
   ]
  },
  {
   "cell_type": "code",
   "execution_count": 5,
   "id": "7404066d",
   "metadata": {},
   "outputs": [],
   "source": [
    "def new_stair_func(x):\n",
    "    y = (x > 0) # x가 0보다 크면 True(1)를 출력하는 부등호 연산\n",
    "    return y.astype(np.int32)"
   ]
  },
  {
   "cell_type": "code",
   "execution_count": 6,
   "id": "931c5777",
   "metadata": {},
   "outputs": [
    {
     "data": {
      "text/plain": [
       "array([[1, 1, 1],\n",
       "       [1, 1, 1]], dtype=int32)"
      ]
     },
     "execution_count": 6,
     "metadata": {},
     "output_type": "execute_result"
    }
   ],
   "source": [
    "new_stair_func(a)"
   ]
  },
  {
   "cell_type": "code",
   "execution_count": 7,
   "id": "8ca8eaef",
   "metadata": {},
   "outputs": [
    {
     "data": {
      "image/png": "[encoded data removed]",
      "text/plain": [
       "<Figure size 640x480 with 1 Axes>"
      ]
     },
     "metadata": {},
     "output_type": "display_data"
    }
   ],
   "source": [
    "x = np.arange(-5.0, 5.0, 0.1)\n",
    "y = new_stair_func(x)\n",
    "\n",
    "plt.plot(x, y)\n",
    "plt.ylim(-0.1, 1.1)\n",
    "plt.show()"
   ]
  },
  {
   "cell_type": "code",
   "execution_count": null,
   "id": "e9df5679",
   "metadata": {},
   "outputs": [],
   "source": [
    "# 시그모이드 구현\n",
    "\n",
    "def sigmoid(x):\n",
    "    return 1 / (1+np.exp(-x))"
   ]
  },
  {
   "cell_type": "code",
   "execution_count": 9,
   "id": "87792d75",
   "metadata": {},
   "outputs": [
    {
     "data": {
      "text/plain": [
       "array([[0.4632571 , 0.82350548, 0.76788273],\n",
       "       [0.66975153, 0.44660502, 0.64247469]])"
      ]
     },
     "execution_count": 9,
     "metadata": {},
     "output_type": "execute_result"
    }
   ],
   "source": [
    "x = np.random.randn(2,3)\n",
    "sigmoid(x)"
   ]
  },
  {
   "cell_type": "code",
   "execution_count": 10,
   "id": "c934b121",
   "metadata": {},
   "outputs": [
    {
     "data": {
      "image/png": "[encoded data removed]",
      "text/plain": [
       "<Figure size 640x480 with 1 Axes>"
      ]
     },
     "metadata": {},
     "output_type": "display_data"
    }
   ],
   "source": [
    "x = np.arange(-5, 5, 0.1)\n",
    "y = sigmoid(x)\n",
    "\n",
    "plt.plot(x,y)\n",
    "plt.ylim(-0.1, 1.1)\n",
    "plt.show()"
   ]
  },
  {
   "cell_type": "code",
   "execution_count": null,
   "id": "0ec6fe4b",
   "metadata": {},
   "outputs": [],
   "source": [
    "# relu 구현\n",
    "\n",
    "def relu(x):\n",
    "    return np.maximum(0, x)"
   ]
  },
  {
   "cell_type": "code",
   "execution_count": 12,
   "id": "4653cce8",
   "metadata": {},
   "outputs": [
    {
     "name": "stdout",
     "output_type": "stream",
     "text": [
      "[-6.79257969 -7.83415225]\n"
     ]
    }
   ],
   "source": [
    "# 2 -> 3 -> 4 -> 2\n",
    "\n",
    "X = np.random.normal(-5.0, 5.0, 2) # 랜덤 실수 입력\n",
    "W = np.random.rand(2,3) # 랜덤 가중치\n",
    "b = np.random.normal(-1,1,1) # 랜덤 편향\n",
    "\n",
    "print(X)"
   ]
  },
  {
   "cell_type": "code",
   "execution_count": 13,
   "id": "f7b8fa3b",
   "metadata": {},
   "outputs": [
    {
     "name": "stdout",
     "output_type": "stream",
     "text": [
      "[8.41306517e-06 8.64776245e-07 3.87703085e-05]\n"
     ]
    }
   ],
   "source": [
    "X2 = sigmoid(np.dot(X,W) + b)\n",
    "W2 = np.random.rand(3,4)\n",
    "b2 = np.random.normal(-1,1,1)\n",
    "\n",
    "print(X2)"
   ]
  },
  {
   "cell_type": "code",
   "execution_count": 14,
   "id": "a26c78ed",
   "metadata": {},
   "outputs": [
    {
     "name": "stdout",
     "output_type": "stream",
     "text": [
      "[0.37994096 0.37994519 0.37994087 0.37994146]\n"
     ]
    }
   ],
   "source": [
    "X3 = sigmoid(np.dot(X2, W2) + b2)\n",
    "W3 = np.random.rand(4,2)\n",
    "b3 = np.random.normal(-1,1,1)\n",
    "\n",
    "print(X3)"
   ]
  },
  {
   "cell_type": "code",
   "execution_count": 15,
   "id": "3d7487b2",
   "metadata": {},
   "outputs": [
    {
     "name": "stdout",
     "output_type": "stream",
     "text": [
      "[0.49006896 0.53241555]\n"
     ]
    }
   ],
   "source": [
    "X_out = sigmoid(np.dot(X3, W3) + b3)\n",
    "\n",
    "print(X_out)"
   ]
  },
  {
   "cell_type": "code",
   "execution_count": 26,
   "id": "e64173e7",
   "metadata": {},
   "outputs": [],
   "source": [
    "# softmax 구현\n",
    "\n",
    "def softmax_no_minus(x):\n",
    "    if type(x) != np.ndarray:\n",
    "        x = np.array(x)\n",
    "        \n",
    "    return np.exp(x) / np.sum(np.exp(x))"
   ]
  },
  {
   "cell_type": "code",
   "execution_count": 36,
   "id": "080e095e",
   "metadata": {},
   "outputs": [
    {
     "name": "stdout",
     "output_type": "stream",
     "text": [
      "inf\n"
     ]
    },
    {
     "name": "stderr",
     "output_type": "stream",
     "text": [
      "C:\\Users\\zkdls\\AppData\\Local\\Temp\\ipykernel_18196\\1881730108.py:3: RuntimeWarning: overflow encountered in exp\n",
      "  print(np.sum(np.exp(test)))\n"
     ]
    }
   ],
   "source": [
    "test = np.array([1.0, 2.0, 800])\n",
    "\n",
    "print(np.sum(np.exp(test)))\n",
    "\n",
    "# 오버플로우 발생.. 식을 해치지 않으면서 오버플로우를 피할 수 있을까?"
   ]
  },
  {
   "cell_type": "code",
   "execution_count": 68,
   "id": "5038714b",
   "metadata": {},
   "outputs": [
    {
     "name": "stdout",
     "output_type": "stream",
     "text": [
      "[' 2.264%', ' 6.155%', ' 91.581%'] 소프트맥스의 합은 항상 : 1.0\n"
     ]
    }
   ],
   "source": [
    "test2 = np.array([1.0, 2.0, 4.7])\n",
    "\n",
    "def softmax(x):\n",
    "    if type(x)!=np.ndarray:\n",
    "        x = np.array(x)\n",
    "    \n",
    "    M = np.max(x) # 배열의 최댓값\n",
    "    \n",
    "    return np.exp(x-M) / np.sum(np.exp(x-M))\n",
    "\n",
    "# 분모 분자에 배열의 최댓값을 대입한 지수함수를 나누어 줌으로써 오버플로우를 피할 수 있다.\n",
    "\n",
    "result = softmax(test2)\n",
    "\n",
    "str_list = [f'{val *100: .3f}%' for val in result.tolist()] \n",
    "\n",
    "# 파이썬 컴프리헨션 : \n",
    "# [표현식 for 변수 in 순회 가능 객체]\n",
    "# [표현식 for 변수 in 순회 가능 객체 if 조건]\n",
    "# {키 : 값 for 변수 in 순회 가능 객체 if 조건}\n",
    "# --> 반복문을 한 줄로 쓰고 싶을 때 사용.\n",
    "\n",
    "print(str_list, f'소프트맥스의 합은 항상 : {np.sum(result)}') \n",
    "# 소프르맥스는 확률로 보고 사용할 수 있다. 따라서 분류등의 출력층에서 자주 사용된다."
   ]
  },
  {
   "cell_type": "code",
   "execution_count": null,
   "id": "21ab1734",
   "metadata": {},
   "outputs": [
    {
     "name": "stdout",
     "output_type": "stream",
     "text": [
      "[1, 2, 3] [np.int64(1), np.int64(2), np.int64(3)]\n"
     ]
    }
   ],
   "source": [
    "test_arr = np.array([1,2,3])\n",
    "\n",
    "test_list = test_arr.tolist()\n",
    "test_list2 = list(test_arr)\n",
    "\n",
    "print(test_list, test_list2)\n",
    "\n",
    "# --> ndarray의 형변환은 생성자를 통한 변환이 아니라 tolist(), todict()와 같은 numpy 특화 메서드를 사용한다."
   ]
  },
  {
   "cell_type": "markdown",
   "id": "4289a0f5",
   "metadata": {},
   "source": [
    "간단한 신경망을 이용한 mnist cls"
   ]
  },
  {
   "cell_type": "code",
   "execution_count": 116,
   "id": "a0cd3924",
   "metadata": {},
   "outputs": [
    {
     "name": "stderr",
     "output_type": "stream",
     "text": [
      "100.0%\n",
      "100.0%\n",
      "100.0%\n",
      "100.0%\n"
     ]
    }
   ],
   "source": [
    "data_path = './mnist'\n",
    "transform = transforms.Compose([\n",
    "    transforms.ToTensor()\n",
    "])\n",
    "\n",
    "train_set = datasets.MNIST(root=data_path, train=True, download=True, transform=transform)\n",
    "test_set = datasets.MNIST(root=data_path, train=False, download=True, transform=transform)"
   ]
  },
  {
   "cell_type": "code",
   "execution_count": 127,
   "id": "5932ad8c",
   "metadata": {},
   "outputs": [
    {
     "name": "stdout",
     "output_type": "stream",
     "text": [
      "torch.Size([28, 28]) 60000\n"
     ]
    }
   ],
   "source": [
    "img, label = train_set[59999]\n",
    "\n",
    "print(img.shape[1:], len(train_set))\n",
    "\n",
    "# 28 * 28 * 1 size의 입력 데이터 6만장으로 이루어졌고 img, label 형태의 튜플로 담겨져있음을 알 수 있음."
   ]
  },
  {
   "cell_type": "code",
   "execution_count": 120,
   "id": "b6b65410",
   "metadata": {},
   "outputs": [
    {
     "data": {
      "text/plain": [
       "<matplotlib.image.AxesImage at 0x23ddb10abf0>"
      ]
     },
     "execution_count": 120,
     "metadata": {},
     "output_type": "execute_result"
    },
    {
     "data": {
      "image/png": "[encoded data removed]",
      "text/plain": [
       "<Figure size 640x480 with 1 Axes>"
      ]
     },
     "metadata": {},
     "output_type": "display_data"
    }
   ],
   "source": [
    "plt.imshow(img.permute(1,2,0)) # channel이 가장 마지막으로 가도록 전치. 해당 메서드가 받아들이는 순서대로 입력해줘야함.\n"
   ]
  },
  {
   "cell_type": "markdown",
   "id": "4aeacc3a",
   "metadata": {},
   "source": [
    "# 학습 신경망을 만들기 전에 주의점\n",
    "\n",
    "1. 입력층 뉴런의 개수는 28*28 = 784\n",
    "2. 출력층 뉴런의 개수는 10개 (0~9까지 10개)\n",
    "3. hidden_layer의 개수는 2개, 첫 번째 은닉층은 뉴런 50개, 두 번째 은닉층은 뉴런 100개. --> 임의로 정한 하이퍼파라미터\n",
    "\n",
    "# 흐름\n",
    "\n",
    "1. 이미지 한 장 가져와서 #데이터로더나 미니배치 등은 다음에...\n",
    "2. 신경망에 넣고\n",
    "3. 예측\n",
    "\n",
    "# 신경망을 만들 때 __init__에는 무엇을 넣고, forward에는 무엇을 넣어야 하나? 두 함수의 역할은 뭘까?\n",
    "\n",
    "1. __init__은 모델의 구조를 설계하고, 부품을 준비하는 단계라고 생각하면 쉽습니다.\n",
    "    이 모델이 어떤 구조를 가질 것인가? 어떤 부품으로 그 구조를 구성할 것인가?\n",
    "\n",
    "2. forward 함수는 작동 방식 설명서라고 생각하자. __init__에서 준비한 부품을 어떤 순서로 어떻게 거쳐서 조립할 것인지..\n",
    "    \n",
    "# 그런데 왜 self로 선언하나요? 그냥 선언하면 안되나요?\n",
    "\n",
    "파이썬은 객체 지향 프로그래밍 언어이기 때문이다. \n",
    "class 안에서 self로 변수를 선언한다는 것은 class의 멤버 변수로서 변수를 선언하겠다는 약속이다.\n",
    "선언된 변수는 class에 종속되는 변수로서 사용되고 이를 통해 객체지향프로그래밍을 구현할 수 있다.\n",
    "\n",
    "# 왜 MNIST 신경망 scratch 코드짜다가 삼천포로 빠지나요?\n",
    "\n",
    "그만큼 간단한 신경망도 만들기 전에 모르는게 많았나 봅니다. 맨날 라이브러리만 쓰고 만들어져있는것만 써서 그래요...\n",
    "\n",
    "# def __init__(self, x, y): 로 선언했다면 __init__ 함수에 self.x랑 self.y는 무조건 선언해야하나요?\n",
    "\n",
    "__init__ 함수에는 엄밀히 말하면 '객체의 속성'으로 저장할 필요가 있는 변수들을 저장하는 것이다.\n",
    "x랑 y의 값을 계속 참조하거나 사용해야 한다면? 선언해야합니다.\n",
    "그런데 예를 들어서 x랑 y를 입력으로 받고나서 self.result = x + y 로 선언한다면?\n",
    "result만 선언하고 x랑 y는 한번 만 사용되는것입니다. 즉 '무조건해야만한다'는 아닙니다. 하지만 대부분은 선언되겠죠.\n"
   ]
  },
  {
   "cell_type": "code",
   "execution_count": 157,
   "id": "1bccddeb",
   "metadata": {},
   "outputs": [],
   "source": [
    "# __init__에 입력으로 받을 변수들을 적을 때 특정 값까지 선언해버리는 경우는 무엇일까?\n",
    "# 그것은 바로 해당 모델의 default값을 설정하는것이다. 모델을 객체화할때 다르게 선언하지 않는 경우에는 해당 값을 사용하겠다는 의미다.\n",
    "\n",
    "class MNN(nn.Module):\n",
    "    def __init__(self, input_size=784, hidden_size=[50,100], num_classes=10, batch_size = 32):\n",
    "        super().__init__()\n",
    "        self.input_size = input_size\n",
    "        self.hidden_size = hidden_size\n",
    "        self.num_classes = num_classes\n",
    "        self.batch_size = batch_size\n",
    "        \n",
    "        self.w1 = torch.nn.Parameter(torch.randn(input_size, hidden_size[0]))\n",
    "        self.b1 = torch.nn.Parameter(torch.randn(hidden_size[0],)*0.1)\n",
    "        \n",
    "        self.w2 = torch.nn.Parameter(torch.randn(hidden_size[0], hidden_size[1]))\n",
    "        self.b2 = torch.nn.Parameter(torch.randn(hidden_size[1],)*0.1)\n",
    "        \n",
    "        self.w3 = torch.nn.Parameter(torch.randn(hidden_size[1], num_classes))\n",
    "        self.b3 = torch.nn.Parameter(torch.randn(num_classes,)*0.1)\n",
    "        \n",
    "        #위에서 구현한 함수들로 사용\n",
    "        \n",
    "        self.relu = relu()\n",
    "        self.softmax = softmax()\n",
    "        \n",
    "    def forward(self, x):\n",
    "        \"\"\"\n",
    "        img = x[0] # img, label = x --> label은 forward에서는 딱히 필요가 없는 듯하여 수정. x = train_set[N]\n",
    "        img_tensor = img.reshape(img.shape[1]*img.shape[2],) # 1*28*28 텐서를 입력데이터형태 1*784로 변형\n",
    "        \"\"\"\n",
    "        \n",
    "        h1 = relu(torch.matmul(x, self.w1) + self.b1)\n",
    "        h2 = relu(torch.matmul(h1, self.w2) + self.b2)\n",
    "        out_layer = softmax(torch.matmul(h2, self.w3) + self.b3)\n",
    "        predicted_label = int(torch.argmax(out_layer))  # 가장 높은 확률을 갖는 인덱스가 무엇이냐. 인덱스는 예측과 동일함.\n",
    "        \n",
    "        return predicted_label\n",
    "    \n",
    "    "
   ]
  },
  {
   "cell_type": "code",
   "execution_count": null,
   "id": "83f0e259",
   "metadata": {},
   "outputs": [],
   "source": []
  }
 ],
 "metadata": {
  "kernelspec": {
   "display_name": "jinai",
   "language": "python",
   "name": "python3"
  },
  "language_info": {
   "codemirror_mode": {
    "name": "ipython",
    "version": 3
   },
   "file_extension": ".py",
   "mimetype": "text/x-python",
   "name": "python",
   "nbconvert_exporter": "python",
   "pygments_lexer": "ipython3",
   "version": "3.10.11"
  }
 },
 "nbformat": 4,
 "nbformat_minor": 5
}
