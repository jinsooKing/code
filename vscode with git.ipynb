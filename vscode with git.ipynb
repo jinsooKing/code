{
 "cells": [
  {
   "cell_type": "code",
   "execution_count": 3,
   "id": "8877c923",
   "metadata": {},
   "outputs": [
    {
     "name": "stdout",
     "output_type": "stream",
     "text": [
      "git bash\n"
     ]
    }
   ],
   "source": [
    "print(\"git bash\")"
   ]
  },
  {
   "cell_type": "code",
   "execution_count": 4,
   "id": "513c2ec0",
   "metadata": {},
   "outputs": [
    {
     "name": "stdout",
     "output_type": "stream",
     "text": [
      "lets pull and bash\n"
     ]
    }
   ],
   "source": [
    "print(\"lets pull and bash\")"
   ]
  },
  {
   "cell_type": "code",
   "execution_count": null,
   "id": "808f8299",
   "metadata": {},
   "outputs": [],
   "source": []
  }
 ],
 "metadata": {
  "kernelspec": {
   "display_name": "Python 3",
   "language": "python",
   "name": "python3"
  },
  "language_info": {
   "codemirror_mode": {
    "name": "ipython",
    "version": 3
   },
   "file_extension": ".py",
   "mimetype": "text/x-python",
   "name": "python",
   "nbconvert_exporter": "python",
   "pygments_lexer": "ipython3",
   "version": "3.11.9"
  }
 },
 "nbformat": 4,
 "nbformat_minor": 5
}
