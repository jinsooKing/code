{
 "cells": [
  {
   "cell_type": "code",
   "execution_count": 1,
   "id": "8f6434e6",
   "metadata": {},
   "outputs": [],
   "source": [
    "import numpy as np\n",
    "import torch.nn as nn\n",
    "import torch\n",
    "import math\n",
    "import matplotlib.pyplot as plt\n",
    "import cv2\n",
    "import csv\n",
    "import tensorflow as tf\n",
    "import torchvision\n",
    "import torchvision.transforms as transforms\n",
    "import torch.nn.functional as F\n",
    "import sys"
   ]
  },
  {
   "cell_type": "code",
   "execution_count": 2,
   "id": "621bdef8",
   "metadata": {},
   "outputs": [],
   "source": [
    "img_path = 'test_image\\L.jpeg'\n",
    "\n",
    "test_img = cv2.imread(img_path, cv2.IMREAD_COLOR)\n",
    "\n",
    "cv2.imshow('loaded image', test_img)\n",
    "\n",
    "cv2.waitKey(0)\n",
    "\n",
    "cv2.destroyAllWindows()"
   ]
  },
  {
   "cell_type": "code",
   "execution_count": 3,
   "id": "82985f34",
   "metadata": {},
   "outputs": [
    {
     "name": "stdout",
     "output_type": "stream",
     "text": [
      "(400, 400, 3)\n",
      "uint8\n",
      "<memory at 0x000002B923DD1E40>\n",
      "<built-in method astype of numpy.ndarray object at 0x000002B926E75590>\n"
     ]
    }
   ],
   "source": [
    "print(test_img.shape)\n",
    "print(test_img.dtype)\n",
    "print(test_img.data)\n",
    "print(test_img.astype)"
   ]
  },
  {
   "cell_type": "code",
   "execution_count": 4,
   "id": "7b402131",
   "metadata": {},
   "outputs": [
    {
     "name": "stdout",
     "output_type": "stream",
     "text": [
      "[[[ 77 105 112]\n",
      "  [ 80 108 115]\n",
      "  [ 86 112 118]\n",
      "  ...\n",
      "  [ 25  24  26]\n",
      "  [ 26  25  27]\n",
      "  [ 27  26  28]]]\n",
      "tensor([[[ 77, 105, 112],\n",
      "         [ 80, 108, 115],\n",
      "         [ 86, 112, 118],\n",
      "         ...,\n",
      "         [ 25,  24,  26],\n",
      "         [ 26,  25,  27],\n",
      "         [ 27,  26,  28]]], dtype=torch.uint8)\n",
      "tensor([[[0.3020, 0.4118, 0.4392],\n",
      "         [0.3137, 0.4235, 0.4510],\n",
      "         [0.3373, 0.4392, 0.4627],\n",
      "         ...,\n",
      "         [0.0980, 0.0941, 0.1020],\n",
      "         [0.1020, 0.0980, 0.1059],\n",
      "         [0.1059, 0.1020, 0.1098]]])\n",
      "tensor([[[0.3020, 0.4118, 0.4392],\n",
      "         [0.3216, 0.4314, 0.4588],\n",
      "         [0.3451, 0.4549, 0.4824],\n",
      "         ...,\n",
      "         [0.6667, 0.7686, 0.8235],\n",
      "         [0.6627, 0.7686, 0.8235],\n",
      "         [0.6627, 0.7686, 0.8235]]])\n",
      "tensor([[[0.3020, 0.4118, 0.4392],\n",
      "         [0.3137, 0.4235, 0.4510],\n",
      "         [0.3373, 0.4392, 0.4627],\n",
      "         ...,\n",
      "         [0.0980, 0.0941, 0.1020],\n",
      "         [0.1020, 0.0980, 0.1059],\n",
      "         [0.1059, 0.1020, 0.1098]]])\n"
     ]
    },
    {
     "name": "stderr",
     "output_type": "stream",
     "text": [
      "C:\\Users\\zkdls\\AppData\\Local\\Temp\\ipykernel_15116\\2547755168.py:11: UserWarning: The use of `x.T` on tensors of dimension other than 2 to reverse their shape is deprecated and it will throw an error in a future release. Consider `x.mT` to transpose batches of matrices or `x.permute(*torch.arange(x.ndim - 1, -1, -1))` to reverse the dimensions of a tensor. (Triggered internally at C:\\actions-runner\\_work\\pytorch\\pytorch\\pytorch\\aten\\src\\ATen\\native\\TensorShape.cpp:3729.)\n",
      "  print(test_img_tensor2.T[:1])\n"
     ]
    }
   ],
   "source": [
    "print(test_img[:1])\n",
    "\n",
    "test_img_tensor = torch.tensor(test_img)\n",
    "print(test_img_tensor[:1])\n",
    "\n",
    "test_img_tensor = test_img_tensor / 255\n",
    "print(test_img_tensor[:1])\n",
    "\n",
    "to_tensor = transforms.ToTensor()\n",
    "test_img_tensor2 = to_tensor(test_img)\n",
    "print(test_img_tensor2.T[:1])\n",
    "print(test_img_tensor2.permute(1,2,0)[:1])\n"
   ]
  },
  {
   "cell_type": "code",
   "execution_count": 5,
   "id": "bb9e4caf",
   "metadata": {},
   "outputs": [],
   "source": [
    "transform = transforms.Compose([\n",
    "    transforms.ToTensor(),\n",
    "    transforms.Normalize((0.5, 0.5, 0.5), (0.5, 0.5, 0.5))\n",
    "])"
   ]
  },
  {
   "cell_type": "markdown",
   "id": "60a7ae95",
   "metadata": {},
   "source": [
    "1. 이미지를 cv2.imread(path, cv2.imread_color) 등을 통해 읽으면 nd.array 형태로 저장됨.\n",
    "2. ToTensor는 PIL 또는 ndarray를 C * H * W 형태로 치환하고 255로 나눠 정규화해줌.\n",
    "3. pytorch에서 blabla.T 처럼 전치하는 것은 위험함. .T는 마지막 두차원만 전치시켜줌.\n",
    "    예를 들어 (C, H, W) 형태의 텐서를 .T하면 (C, W, H)가 됨. 즉 원하는 차원변경이 아닐 수 있다.\n",
    "    따라서, .permute(*dims) 함수를 사용해 전치시키는 습관이 필요하다.\n"
   ]
  },
  {
   "cell_type": "code",
   "execution_count": 6,
   "id": "861b68ab",
   "metadata": {},
   "outputs": [
    {
     "name": "stderr",
     "output_type": "stream",
     "text": [
      "100.0%\n"
     ]
    }
   ],
   "source": [
    "download_path = 'test_image'\n",
    "\n",
    "trainset= torchvision.datasets.CIFAR10(root=download_path, train=True,\n",
    "                                      download=True, transform = transform)\n",
    "\n",
    "testset= torchvision.datasets.CIFAR10(root=download_path, train=False,\n",
    "                                      download=True, transform = transform)\n"
   ]
  },
  {
   "cell_type": "code",
   "execution_count": 7,
   "id": "aa7c0485",
   "metadata": {},
   "outputs": [],
   "source": [
    "trainloader = torch.utils.data.DataLoader(trainset, batch_size=4,\n",
    "                                          shuffle=True, num_workers=2)\n",
    "\n",
    "testloader = torch.utils.data.DataLoader(testset, batch_size=4,\n",
    "                                         shuffle=False, num_workers=2)\n",
    "\n",
    "classes = ('airplane', 'automobile', 'bird', 'cat',\n",
    "           'deer', 'dog', 'frog', 'horse', 'ship', 'truck')\n"
   ]
  },
  {
   "cell_type": "code",
   "execution_count": 8,
   "id": "894c43c6",
   "metadata": {},
   "outputs": [
    {
     "name": "stdout",
     "output_type": "stream",
     "text": [
      "torch.Size([3, 32, 32])\n"
     ]
    }
   ],
   "source": [
    "print(trainset[0][0].shape)"
   ]
  },
  {
   "cell_type": "code",
   "execution_count": 9,
   "id": "d988929c",
   "metadata": {},
   "outputs": [
    {
     "name": "stderr",
     "output_type": "stream",
     "text": [
      "Clipping input data to the valid range for imshow with RGB data ([0..1] for floats or [0..255] for integers). Got range [-1.0..1.0].\n"
     ]
    },
    {
     "name": "stdout",
     "output_type": "stream",
     "text": [
      "airplane dog   automobile airplane\n"
     ]
    },
    {
     "data": {
      "image/png": "[encoded data removed]",
      "text/plain": [
       "<Figure size 640x480 with 1 Axes>"
      ]
     },
     "metadata": {},
     "output_type": "display_data"
    }
   ],
   "source": [
    "dataiter = iter(trainloader)\n",
    "images, labels = next(dataiter)\n",
    "\n",
    "img_grid = torchvision.utils.make_grid(images) # 역정규화\n",
    "npimg = img_grid.numpy() # matplotlib을 쓰기 위해 numpy로 변환\n",
    "\n",
    "plt.imshow(np.transpose(npimg, (1,2,0))) # matplolib은 (height, width, channel)을 입력으로 받기 때문에 tensor (channel, height, width)을 변환\n",
    "print(' '.join(f'{classes[labels[j]]:5s}' for j in range(4)))\n",
    "\n",
    "plt.show()"
   ]
  },
  {
   "cell_type": "code",
   "execution_count": 10,
   "id": "15700d42",
   "metadata": {},
   "outputs": [
    {
     "data": {
      "text/plain": [
       "torch.Size([4, 3, 32, 32])"
      ]
     },
     "execution_count": 10,
     "metadata": {},
     "output_type": "execute_result"
    }
   ],
   "source": [
    "images.shape"
   ]
  },
  {
   "cell_type": "code",
   "execution_count": 11,
   "id": "f8e1e67a",
   "metadata": {},
   "outputs": [],
   "source": [
    "# 1. conv2d(input_map, kernels, bias, stride)\n",
    "# 2. max_pooling2d(input_map, pool_size, stride)\n",
    "# 3. relu(x)\n",
    "# 4. flatten(x)\n",
    "# 5. dense(x, weights, bias)"
   ]
  },
  {
   "cell_type": "code",
   "execution_count": 22,
   "id": "a6ff5033",
   "metadata": {},
   "outputs": [],
   "source": [
    "\"\"\"\n",
    "dataiter = iter(trainloader)\n",
    "images, labels = next(dataiter)\n",
    "\n",
    "\"\"\"\n",
    "\n",
    "class CNN(nn.Module):\n",
    "    \n",
    "    def __init__(self, num_classes=10):\n",
    "        super().__init__()\n",
    "        self.conv1 = nn.Conv2d(in_channels=3, out_channels=32, kernel_size=3, stride=1, padding=1)\n",
    "        self.bn1 = nn.BatchNorm2d(num_features=32)\n",
    "        self.pool1 = nn.MaxPool2d(kernel_size=2, stride=2)\n",
    "        \n",
    "        self.conv2 = nn.Conv2d(in_channels=32, out_channels=64, kernel_size=3, padding=1, stride=1)\n",
    "        self.bn2 = nn.BatchNorm2d(num_features=64)\n",
    "        self.pool2 = nn.MaxPool2d(kernel_size=2, stride=2)\n",
    "        \n",
    "        self.conv3 = nn.Conv2d(in_channels=64, out_channels=128, kernel_size=3, padding=1, stride=1)\n",
    "        self.bn3 = nn.BatchNorm2d(num_features=128)\n",
    "        self.pool3 = nn.MaxPool2d(kernel_size=2, stride=2)\n",
    "        \n",
    "        self._fc1_input_features = 128 * 4 * 4\n",
    "        self.fc1 = nn.Linear(self._fc1_input_features, out_features=512)\n",
    "        self.dropout = nn.Dropout(p=0.5)\n",
    "        self.fc2 = nn.Linear(in_features=512, out_features=num_classes)\n",
    "        \n",
    "    def forward(self, x):\n",
    "        x = self.conv1(x)\n",
    "        x = self.bn1(x)\n",
    "        x = F.relu(x)\n",
    "        x = self.pool1(x)\n",
    "        \n",
    "        x = self.conv2(x)\n",
    "        x = self.bn2(x)\n",
    "        x = F.relu(x)\n",
    "        x = self.pool2(x)\n",
    "        \n",
    "        x = self.conv3(x)\n",
    "        x = self.bn3(x)\n",
    "        x = F.relu(x)\n",
    "        x = self.pool3(x)\n",
    "        \n",
    "        x = torch.flatten(x, start_dim=1)\n",
    "        x = self.fc1(x)\n",
    "        x = F.relu(x)\n",
    "        x = self.dropout(x)\n",
    "        \n",
    "        x = self.fc2(x)\n",
    "        \n",
    "        return x\n",
    "\n"
   ]
  },
  {
   "cell_type": "code",
   "execution_count": 23,
   "id": "d8ab1046",
   "metadata": {},
   "outputs": [
    {
     "name": "stdout",
     "output_type": "stream",
     "text": [
      "Using device: cuda\n",
      "\n",
      "Model Architecture:\n",
      "CNN(\n",
      "  (conv1): Conv2d(3, 32, kernel_size=(3, 3), stride=(1, 1), padding=(1, 1))\n",
      "  (bn1): BatchNorm2d(32, eps=1e-05, momentum=0.1, affine=True, track_running_stats=True)\n",
      "  (pool1): MaxPool2d(kernel_size=2, stride=2, padding=0, dilation=1, ceil_mode=False)\n",
      "  (conv2): Conv2d(32, 64, kernel_size=(3, 3), stride=(1, 1), padding=(1, 1))\n",
      "  (bn2): BatchNorm2d(64, eps=1e-05, momentum=0.1, affine=True, track_running_stats=True)\n",
      "  (pool2): MaxPool2d(kernel_size=2, stride=2, padding=0, dilation=1, ceil_mode=False)\n",
      "  (conv3): Conv2d(64, 128, kernel_size=(3, 3), stride=(1, 1), padding=(1, 1))\n",
      "  (bn3): BatchNorm2d(128, eps=1e-05, momentum=0.1, affine=True, track_running_stats=True)\n",
      "  (pool3): MaxPool2d(kernel_size=2, stride=2, padding=0, dilation=1, ceil_mode=False)\n",
      "  (fc1): Linear(in_features=2048, out_features=512, bias=True)\n",
      "  (dropout): Dropout(p=0.5, inplace=False)\n",
      "  (fc2): Linear(in_features=512, out_features=10, bias=True)\n",
      ")\n",
      "\n",
      "Model Summary:\n",
      "----------------------------------------------------------------\n",
      "        Layer (type)               Output Shape         Param #\n",
      "================================================================\n",
      "            Conv2d-1           [-1, 32, 32, 32]             896\n",
      "       BatchNorm2d-2           [-1, 32, 32, 32]              64\n",
      "         MaxPool2d-3           [-1, 32, 16, 16]               0\n",
      "            Conv2d-4           [-1, 64, 16, 16]          18,496\n",
      "       BatchNorm2d-5           [-1, 64, 16, 16]             128\n",
      "         MaxPool2d-6             [-1, 64, 8, 8]               0\n",
      "            Conv2d-7            [-1, 128, 8, 8]          73,856\n",
      "       BatchNorm2d-8            [-1, 128, 8, 8]             256\n",
      "         MaxPool2d-9            [-1, 128, 4, 4]               0\n",
      "           Linear-10                  [-1, 512]       1,049,088\n",
      "          Dropout-11                  [-1, 512]               0\n",
      "           Linear-12                   [-1, 10]           5,130\n",
      "================================================================\n",
      "Total params: 1,147,914\n",
      "Trainable params: 1,147,914\n",
      "Non-trainable params: 0\n",
      "----------------------------------------------------------------\n",
      "Input size (MB): 0.01\n",
      "Forward/backward pass size (MB): 0.99\n",
      "Params size (MB): 4.38\n",
      "Estimated Total Size (MB): 5.38\n",
      "----------------------------------------------------------------\n",
      "\n",
      "Input shape: torch.Size([4, 3, 32, 32])\n",
      "Output shape: torch.Size([4, 10])\n",
      "Output (logits) example for first sample:\n",
      "tensor([-0.7130,  0.3773, -0.2799,  0.2503,  0.5059,  0.7642,  0.5535,  0.0753,\n",
      "        -0.2082,  0.0907], device='cuda:0', grad_fn=<SelectBackward0>)\n"
     ]
    }
   ],
   "source": [
    "if __name__ == '__main__':\n",
    "    # 사용 가능한 디바이스 설정 (GPU 우선)\n",
    "    device = torch.device(\"cuda\" if torch.cuda.is_available() else \"cpu\")\n",
    "    print(f\"Using device: {device}\")\n",
    "\n",
    "    # 모델 인스턴스 생성 및 디바이스로 이동\n",
    "    model = CNN(num_classes=10).to(device)\n",
    "    print(\"\\nModel Architecture:\")\n",
    "    print(model)\n",
    "\n",
    "    # 모델 구조 요약 (torchsummary 라이브러리 필요: pip install torchsummary)\n",
    "    try:\n",
    "        from torchsummary import summary\n",
    "        print(\"\\nModel Summary:\")\n",
    "        # summary 함수에는 모델과 입력 데이터의 크기를 전달해야 합니다.\n",
    "        summary(model, input_size=(3, 32, 32))\n",
    "    except ImportError:\n",
    "        print(\"\\n(Install torchsummary for model summary: pip install torchsummary)\")\n",
    "\n",
    "\n",
    "    # 임의의 더미 입력 데이터 생성 (배치 크기 4)\n",
    "    dummy_input = torch.randn(4, 3, 32, 32).to(device)\n",
    "\n",
    "    # 모델 예측 수행\n",
    "    output = model(dummy_input)\n",
    "\n",
    "    print(f\"\\nInput shape: {dummy_input.shape}\")\n",
    "    print(f\"Output shape: {output.shape}\") # 출력 형태: (배치 크기, 클래스 개수) = (4, 10)\n",
    "    print(\"Output (logits) example for first sample:\")\n",
    "    print(output[0])"
   ]
  },
  {
   "cell_type": "code",
   "execution_count": null,
   "id": "f9a12d29",
   "metadata": {},
   "outputs": [],
   "source": []
  }
 ],
 "metadata": {
  "kernelspec": {
   "display_name": "jinai",
   "language": "python",
   "name": "python3"
  },
  "language_info": {
   "codemirror_mode": {
    "name": "ipython",
    "version": 3
   },
   "file_extension": ".py",
   "mimetype": "text/x-python",
   "name": "python",
   "nbconvert_exporter": "python",
   "pygments_lexer": "ipython3",
   "version": "3.10.11"
  }
 },
 "nbformat": 4,
 "nbformat_minor": 5
}
