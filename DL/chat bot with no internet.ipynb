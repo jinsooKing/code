{
 "cells": [
  {
   "cell_type": "code",
   "execution_count": null,
   "id": "444854da",
   "metadata": {},
   "outputs": [],
   "source": [
    "from langchain_community.llms import Ollama"
   ]
  },
  {
   "cell_type": "code",
   "execution_count": 4,
   "id": "9c03640e",
   "metadata": {},
   "outputs": [],
   "source": [
    "llm = Ollama(model = 'llama3')"
   ]
  },
  {
   "cell_type": "code",
   "execution_count": null,
   "id": "466a4d5d",
   "metadata": {},
   "outputs": [
    {
     "name": "stdout",
     "output_type": "stream",
     "text": [
      "You're asking about LLaMA, which is a type of AI model that's been gaining popularity lately! 😊\n",
      "\n",
      "LLaMA stands for Large Language Model Application. It's a deep learning model trained on massive amounts of text data to generate human-like language responses.\n",
      "\n",
      "In simple terms, LLaMA can understand and respond to natural language inputs, just like you and me chatting! 🤖 This technology has many potential applications, such as:\n",
      "\n",
      "1. Chatbots: Creating conversational AI assistants that can answer customer queries or provide information.\n",
      "2. Language translation: Helping translate languages more accurately and efficiently.\n",
      "3. Writing assistance: Providing suggestions for writers, editors, and content creators.\n",
      "4. Customer service: Offering personalized support to customers through chat interfaces.\n",
      "\n",
      "The name \"LLaMA\" is inspired by the African storytelling tradition of La Mama, emphasizing the model's ability to generate creative and engaging language responses.\n",
      "\n",
      "So, LLaMA is an exciting technology that can potentially revolutionize how we communicate and interact with each other! 💬\n"
     ]
    }
   ],
   "source": [
    "response = llm.invoke('llm이라는게 뭐야? 한국어로 답변해줘')\n",
    "print(response)"
   ]
  },
  {
   "cell_type": "code",
   "execution_count": null,
   "id": "b2146e6e",
   "metadata": {},
   "outputs": [],
   "source": []
  }
 ],
 "metadata": {
  "kernelspec": {
   "display_name": "jinai",
   "language": "python",
   "name": "python3"
  },
  "language_info": {
   "codemirror_mode": {
    "name": "ipython",
    "version": 3
   },
   "file_extension": ".py",
   "mimetype": "text/x-python",
   "name": "python",
   "nbconvert_exporter": "python",
   "pygments_lexer": "ipython3",
   "version": "3.10.11"
  }
 },
 "nbformat": 4,
 "nbformat_minor": 5
}
