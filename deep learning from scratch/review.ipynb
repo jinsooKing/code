{
 "cells": [
  {
   "cell_type": "code",
   "execution_count": 2,
   "id": "60a5441d",
   "metadata": {},
   "outputs": [],
   "source": [
    "import numpy as np\n",
    "import tensorflow as tf\n",
    "from tensorflow import keras\n",
    "from PIL import Image\n",
    "import torch.nn as nn\n",
    "import torch\n",
    "import math\n",
    "import matplotlib.pylab as plt\n",
    "import cv2\n",
    "import csv\n",
    "import torchvision\n",
    "import torch.nn.functional as F\n",
    "import sys\n",
    "from torchvision import datasets, transforms"
   ]
  },
  {
   "cell_type": "code",
   "execution_count": 2,
   "id": "a1cbbba0",
   "metadata": {},
   "outputs": [],
   "source": [
    "def stair_funciton(x):\n",
    "    if x > 0 :\n",
    "        return 1\n",
    "    else:\n",
    "        return 0"
   ]
  },
  {
   "cell_type": "code",
   "execution_count": 3,
   "id": "676d48b1",
   "metadata": {},
   "outputs": [
    {
     "data": {
      "text/plain": [
       "array([[0.62012994, 0.72037681, 0.23707213],\n",
       "       [0.35922898, 0.23271611, 0.9951836 ]])"
      ]
     },
     "execution_count": 3,
     "metadata": {},
     "output_type": "execute_result"
    }
   ],
   "source": [
    "a = np.random.rand(2,3)\n",
    "\n",
    "a"
   ]
  },
  {
   "cell_type": "code",
   "execution_count": 4,
   "id": "067108cc",
   "metadata": {},
   "outputs": [
    {
     "name": "stdout",
     "output_type": "stream",
     "text": [
      "계단함수는 배열을 입력으로 받을 수 없다.\n"
     ]
    }
   ],
   "source": [
    "if ValueError:\n",
    "    print(\"계단함수는 배열을 입력으로 받을 수 없다.\")\n",
    "else:\n",
    "    stair_funciton(a)"
   ]
  },
  {
   "cell_type": "code",
   "execution_count": 5,
   "id": "7404066d",
   "metadata": {},
   "outputs": [],
   "source": [
    "def new_stair_func(x):\n",
    "    y = (x > 0) # x가 0보다 크면 True(1)를 출력하는 부등호 연산\n",
    "    return y.astype(np.int32)"
   ]
  },
  {
   "cell_type": "code",
   "execution_count": 6,
   "id": "931c5777",
   "metadata": {},
   "outputs": [
    {
     "data": {
      "text/plain": [
       "array([[1, 1, 1],\n",
       "       [1, 1, 1]], dtype=int32)"
      ]
     },
     "execution_count": 6,
     "metadata": {},
     "output_type": "execute_result"
    }
   ],
   "source": [
    "new_stair_func(a)"
   ]
  },
  {
   "cell_type": "code",
   "execution_count": 7,
   "id": "8ca8eaef",
   "metadata": {},
   "outputs": [
    {
     "data": {
      "image/png": "[encoded data removed]",
      "text/plain": [
       "<Figure size 640x480 with 1 Axes>"
      ]
     },
     "metadata": {},
     "output_type": "display_data"
    }
   ],
   "source": [
    "x = np.arange(-5.0, 5.0, 0.1)\n",
    "y = new_stair_func(x)\n",
    "\n",
    "plt.plot(x, y)\n",
    "plt.ylim(-0.1, 1.1)\n",
    "plt.show()"
   ]
  },
  {
   "cell_type": "code",
   "execution_count": 8,
   "id": "e9df5679",
   "metadata": {},
   "outputs": [],
   "source": [
    "# 시그모이드 구현\n",
    "\n",
    "def sigmoid(x):\n",
    "    return 1 / (1+np.exp(-x))"
   ]
  },
  {
   "cell_type": "code",
   "execution_count": 9,
   "id": "87792d75",
   "metadata": {},
   "outputs": [
    {
     "data": {
      "text/plain": [
       "array([[0.31018407, 0.35170315, 0.64381605],\n",
       "       [0.57526243, 0.12628256, 0.21226385]])"
      ]
     },
     "execution_count": 9,
     "metadata": {},
     "output_type": "execute_result"
    }
   ],
   "source": [
    "x = np.random.randn(2,3)\n",
    "sigmoid(x)"
   ]
  },
  {
   "cell_type": "code",
   "execution_count": 10,
   "id": "c934b121",
   "metadata": {},
   "outputs": [
    {
     "data": {
      "image/png": "[encoded data removed]",
      "text/plain": [
       "<Figure size 640x480 with 1 Axes>"
      ]
     },
     "metadata": {},
     "output_type": "display_data"
    }
   ],
   "source": [
    "x = np.arange(-5, 5, 0.1)\n",
    "y = sigmoid(x)\n",
    "\n",
    "plt.plot(x,y)\n",
    "plt.ylim(-0.1, 1.1)\n",
    "plt.show()"
   ]
  },
  {
   "cell_type": "code",
   "execution_count": 11,
   "id": "0ec6fe4b",
   "metadata": {},
   "outputs": [],
   "source": [
    "# relu 구현\n",
    "\n",
    "def relu(x):\n",
    "    return np.maximum(0, x)"
   ]
  },
  {
   "cell_type": "code",
   "execution_count": 12,
   "id": "4653cce8",
   "metadata": {},
   "outputs": [
    {
     "name": "stdout",
     "output_type": "stream",
     "text": [
      "[-13.40424238   3.99005094]\n"
     ]
    }
   ],
   "source": [
    "# 2 -> 3 -> 4 -> 2\n",
    "\n",
    "X = np.random.normal(-5.0, 5.0, 2) # 랜덤 실수 입력\n",
    "W = np.random.rand(2,3) # 랜덤 가중치\n",
    "b = np.random.normal(-1,1,1) # 랜덤 편향\n",
    "\n",
    "print(X)"
   ]
  },
  {
   "cell_type": "code",
   "execution_count": 13,
   "id": "f7b8fa3b",
   "metadata": {},
   "outputs": [
    {
     "name": "stdout",
     "output_type": "stream",
     "text": [
      "[3.67300521e-02 5.65725068e-05 5.07708258e-01]\n"
     ]
    }
   ],
   "source": [
    "X2 = sigmoid(np.dot(X,W) + b)\n",
    "W2 = np.random.rand(3,4)\n",
    "b2 = np.random.normal(-1,1,1)\n",
    "\n",
    "print(X2)"
   ]
  },
  {
   "cell_type": "code",
   "execution_count": 14,
   "id": "a26c78ed",
   "metadata": {},
   "outputs": [
    {
     "name": "stdout",
     "output_type": "stream",
     "text": [
      "[0.3244361  0.3243838  0.34803824 0.33953228]\n"
     ]
    }
   ],
   "source": [
    "X3 = sigmoid(np.dot(X2, W2) + b2)\n",
    "W3 = np.random.rand(4,2)\n",
    "b3 = np.random.normal(-1,1,1)\n",
    "\n",
    "print(X3)"
   ]
  },
  {
   "cell_type": "code",
   "execution_count": 15,
   "id": "3d7487b2",
   "metadata": {},
   "outputs": [
    {
     "name": "stdout",
     "output_type": "stream",
     "text": [
      "[0.57500501 0.59750866]\n"
     ]
    }
   ],
   "source": [
    "X_out = sigmoid(np.dot(X3, W3) + b3)\n",
    "\n",
    "print(X_out)"
   ]
  },
  {
   "cell_type": "code",
   "execution_count": 16,
   "id": "e64173e7",
   "metadata": {},
   "outputs": [],
   "source": [
    "# softmax 구현\n",
    "\n",
    "def softmax_no_minus(x):\n",
    "    if type(x) != np.ndarray:\n",
    "        x = np.array(x)\n",
    "        \n",
    "    return np.exp(x) / np.sum(np.exp(x))"
   ]
  },
  {
   "cell_type": "code",
   "execution_count": 17,
   "id": "080e095e",
   "metadata": {},
   "outputs": [
    {
     "name": "stdout",
     "output_type": "stream",
     "text": [
      "inf\n"
     ]
    },
    {
     "name": "stderr",
     "output_type": "stream",
     "text": [
      "C:\\Users\\zkdls\\AppData\\Local\\Temp\\ipykernel_11752\\1881730108.py:3: RuntimeWarning: overflow encountered in exp\n",
      "  print(np.sum(np.exp(test)))\n"
     ]
    }
   ],
   "source": [
    "test = np.array([1.0, 2.0, 800])\n",
    "\n",
    "print(np.sum(np.exp(test)))\n",
    "\n",
    "# 오버플로우 발생.. 식을 해치지 않으면서 오버플로우를 피할 수 있을까?"
   ]
  },
  {
   "cell_type": "code",
   "execution_count": 18,
   "id": "5038714b",
   "metadata": {},
   "outputs": [
    {
     "name": "stdout",
     "output_type": "stream",
     "text": [
      "[' 2.264%', ' 6.155%', ' 91.581%'] 소프트맥스의 합은 항상 : 1.0\n"
     ]
    }
   ],
   "source": [
    "test2 = np.array([1.0, 2.0, 4.7])\n",
    "\n",
    "def softmax(x):\n",
    "    if type(x)!=np.ndarray:\n",
    "        x = np.array(x)\n",
    "    \n",
    "    M = np.max(x) # 배열의 최댓값\n",
    "    \n",
    "    return np.exp(x-M) / np.sum(np.exp(x-M))\n",
    "\n",
    "# 분모 분자에 배열의 최댓값을 대입한 지수함수를 나누어 줌으로써 오버플로우를 피할 수 있다.\n",
    "\n",
    "result = softmax(test2)\n",
    "\n",
    "str_list = [f'{val *100: .3f}%' for val in result.tolist()] \n",
    "\n",
    "# 파이썬 컴프리헨션 : \n",
    "# [표현식 for 변수 in 순회 가능 객체]\n",
    "# [표현식 for 변수 in 순회 가능 객체 if 조건]\n",
    "# {키 : 값 for 변수 in 순회 가능 객체 if 조건}\n",
    "# --> 반복문을 한 줄로 쓰고 싶을 때 사용.\n",
    "\n",
    "print(str_list, f'소프트맥스의 합은 항상 : {np.sum(result)}') \n",
    "# 소프르맥스는 확률로 보고 사용할 수 있다. 따라서 분류등의 출력층에서 자주 사용된다."
   ]
  },
  {
   "cell_type": "code",
   "execution_count": 19,
   "id": "21ab1734",
   "metadata": {},
   "outputs": [
    {
     "name": "stdout",
     "output_type": "stream",
     "text": [
      "[1, 2, 3] [np.int64(1), np.int64(2), np.int64(3)]\n"
     ]
    }
   ],
   "source": [
    "test_arr = np.array([1,2,3])\n",
    "\n",
    "test_list = test_arr.tolist()\n",
    "test_list2 = list(test_arr)\n",
    "\n",
    "print(test_list, test_list2)\n",
    "\n",
    "# --> ndarray의 형변환은 생성자를 통한 변환이 아니라 tolist(), todict()와 같은 numpy 특화 메서드를 사용한다."
   ]
  },
  {
   "cell_type": "markdown",
   "id": "4289a0f5",
   "metadata": {},
   "source": [
    "간단한 신경망을 이용한 mnist cls"
   ]
  },
  {
   "cell_type": "code",
   "execution_count": 20,
   "id": "a0cd3924",
   "metadata": {},
   "outputs": [
    {
     "name": "stderr",
     "output_type": "stream",
     "text": [
      "100.0%\n",
      "100.0%\n",
      "100.0%\n",
      "100.0%\n"
     ]
    }
   ],
   "source": [
    "data_path = './mnist'\n",
    "transform = transforms.Compose([\n",
    "    transforms.ToTensor()\n",
    "])\n",
    "\n",
    "train_set = datasets.MNIST(root=data_path, train=True, download=True, transform=transform)\n",
    "test_set = datasets.MNIST(root=data_path, train=False, download=True, transform=transform)"
   ]
  },
  {
   "cell_type": "code",
   "execution_count": 21,
   "id": "5932ad8c",
   "metadata": {},
   "outputs": [
    {
     "name": "stdout",
     "output_type": "stream",
     "text": [
      "torch.Size([28, 28]) 60000\n"
     ]
    }
   ],
   "source": [
    "img, label = train_set[59999]\n",
    "\n",
    "print(img.shape[1:], len(train_set))\n",
    "\n",
    "# 28 * 28 * 1 size의 입력 데이터 6만장으로 이루어졌고 img, label 형태의 튜플로 담겨져있음을 알 수 있음."
   ]
  },
  {
   "cell_type": "code",
   "execution_count": 22,
   "id": "b6b65410",
   "metadata": {},
   "outputs": [
    {
     "data": {
      "text/plain": [
       "<matplotlib.image.AxesImage at 0x20fbe109ab0>"
      ]
     },
     "execution_count": 22,
     "metadata": {},
     "output_type": "execute_result"
    },
    {
     "data": {
      "image/png": "[encoded data removed]",
      "text/plain": [
       "<Figure size 640x480 with 1 Axes>"
      ]
     },
     "metadata": {},
     "output_type": "display_data"
    }
   ],
   "source": [
    "plt.imshow(img.permute(1,2,0)) # channel이 가장 마지막으로 가도록 전치. 해당 메서드가 받아들이는 순서대로 입력해줘야함.\n"
   ]
  },
  {
   "cell_type": "markdown",
   "id": "4aeacc3a",
   "metadata": {},
   "source": [
    "# 학습 신경망을 만들기 전에 주의점\n",
    "\n",
    "1. 입력층 뉴런의 개수는 28*28 = 784\n",
    "2. 출력층 뉴런의 개수는 10개 (0~9까지 10개)\n",
    "3. hidden_layer의 개수는 2개, 첫 번째 은닉층은 뉴런 50개, 두 번째 은닉층은 뉴런 100개. --> 임의로 정한 하이퍼파라미터\n",
    "\n",
    "# 흐름\n",
    "\n",
    "1. 이미지 한 장 가져와서 #데이터로더나 미니배치 등은 다음에...\n",
    "2. 신경망에 넣고\n",
    "3. 예측\n",
    "\n",
    "# 신경망을 만들 때 __init__에는 무엇을 넣고, forward에는 무엇을 넣어야 하나? 두 함수의 역할은 뭘까?\n",
    "\n",
    "1. __init__은 모델의 구조를 설계하고, 부품을 준비하는 단계라고 생각하면 쉽습니다.\n",
    "    이 모델이 어떤 구조를 가질 것인가? 어떤 부품으로 그 구조를 구성할 것인가?\n",
    "\n",
    "2. forward 함수는 작동 방식 설명서라고 생각하자. __init__에서 준비한 부품을 어떤 순서로 어떻게 거쳐서 조립할 것인지..\n",
    "    \n",
    "# 그런데 왜 self로 선언하나요? 그냥 선언하면 안되나요?\n",
    "\n",
    "파이썬은 객체 지향 프로그래밍 언어이기 때문이다. \n",
    "class 안에서 self로 변수를 선언한다는 것은 class의 멤버 변수로서 변수를 선언하겠다는 약속이다.\n",
    "선언된 변수는 class에 종속되는 변수로서 사용되고 이를 통해 객체지향프로그래밍을 구현할 수 있다.\n",
    "\n",
    "# 왜 MNIST 신경망 scratch 코드짜다가 삼천포로 빠지나요?\n",
    "\n",
    "그만큼 간단한 신경망도 만들기 전에 모르는게 많았나 봅니다. 맨날 라이브러리만 쓰고 만들어져있는것만 써서 그래요...\n",
    "\n",
    "# def __init__(self, x, y): 로 선언했다면 __init__ 함수에 self.x랑 self.y는 무조건 선언해야하나요?\n",
    "\n",
    "__init__ 함수에는 엄밀히 말하면 '객체의 속성'으로 저장할 필요가 있는 변수들을 저장하는 것이다.\n",
    "x랑 y의 값을 계속 참조하거나 사용해야 한다면? 선언해야합니다.\n",
    "그런데 예를 들어서 x랑 y를 입력으로 받고나서 self.result = x + y 로 선언한다면?\n",
    "result만 선언하고 x랑 y는 한번 만 사용되는것입니다. 즉 '무조건해야만한다'는 아닙니다. 하지만 대부분은 선언되겠죠.\n"
   ]
  },
  {
   "cell_type": "code",
   "execution_count": 23,
   "id": "1bccddeb",
   "metadata": {},
   "outputs": [],
   "source": [
    "# __init__에 입력으로 받을 변수들을 적을 때 특정 값까지 선언해버리는 경우는 무엇일까?\n",
    "# 그것은 바로 해당 모델의 default값을 설정하는것이다. 모델을 객체화할때 다르게 선언하지 않는 경우에는 해당 값을 사용하겠다는 의미다.\n",
    "\n",
    "class MNN(nn.Module):\n",
    "    def __init__(self, input_size=784, hidden_size=[50,100], num_classes=10, batch_size = 100):\n",
    "        super().__init__()\n",
    "        self.input_size = input_size\n",
    "        self.hidden_size = hidden_size\n",
    "        self.num_classes = num_classes\n",
    "        self.batch_size = batch_size\n",
    "        \n",
    "        self.w1 = torch.nn.Parameter(torch.randn(input_size, hidden_size[0]))\n",
    "        self.b1 = torch.nn.Parameter(torch.randn(hidden_size[0],)*0.1)\n",
    "        \n",
    "        self.w2 = torch.nn.Parameter(torch.randn(hidden_size[0], hidden_size[1]))\n",
    "        self.b2 = torch.nn.Parameter(torch.randn(hidden_size[1],)*0.1)\n",
    "        \n",
    "        self.w3 = torch.nn.Parameter(torch.randn(hidden_size[1], num_classes))\n",
    "        self.b3 = torch.nn.Parameter(torch.randn(num_classes,)*0.1)\n",
    "        \n",
    "        #위에서 구현한 함수들로 사용\n",
    "        \n",
    "        self.relu = relu()\n",
    "        self.softmax = softmax()\n",
    "        \n",
    "    def forward(self, x):\n",
    "        \"\"\"\n",
    "        img = x[0] # img, label = x --> label은 forward에서는 딱히 필요가 없는 듯하여 수정. x = train_set[N]\n",
    "        img_tensor = img.reshape(img.shape[1]*img.shape[2],) # 1*28*28 텐서를 입력데이터형태 1*784로 변형\n",
    "        \"\"\"\n",
    "        \n",
    "        h1 = relu(torch.matmul(x, self.w1) + self.b1)\n",
    "        h2 = relu(torch.matmul(h1, self.w2) + self.b2)\n",
    "        out_layer = softmax(torch.matmul(h2, self.w3) + self.b3)\n",
    "        predicted_label = int(torch.argmax(out_layer))  # 가장 높은 확률을 갖는 인덱스가 무엇이냐. 인덱스는 예측과 동일함.\n",
    "        \n",
    "        return predicted_label\n",
    "    \n",
    "    "
   ]
  },
  {
   "cell_type": "markdown",
   "id": "bac4901f",
   "metadata": {},
   "source": [
    "# 의문\n",
    "\n",
    "내가 출력층을 N * 10으로 클래스개수에 맞춰서 10개로 구성했어. 그런데 이 10개가 인덱스 순서대로 0~9의 MNIST 숫자이미지에 해당한다고\n",
    "보장할 수 있나?\n",
    "\n",
    "# 해결\n",
    "\n",
    "손실함수를 학습시키고 모델을 최적화하는 과정에서 각각의 인덱스가 0~9를 의미하도록 유도해줘야하는 것이다.\n",
    "사용자가 의미를 부여해줘야하는것이 맞다. 이런 입력에는 이런 출력이 가장 확률이 높도록 만들도록 가중치 행렬을 업데이트 해나가는것이다.\n"
   ]
  },
  {
   "cell_type": "code",
   "execution_count": null,
   "id": "83f0e259",
   "metadata": {},
   "outputs": [],
   "source": [
    "# 손실함수\n",
    "\n",
    "# 1. 오차제곱합 : SUM OF SQUARES FOR ERROR (SSE)\n",
    "    # 가장 많이 쓰이는 손실함수\n",
    "    \n",
    "def sum_squares_error(y, t):\n",
    "    return 0.5 * np.sum((y-t)^2)\n",
    "\n",
    "# 2. 교차 엔트로피 오차 : CROSS ENTROPY ERROR (CEE)\n",
    "\n",
    "def cross_entrophy(y, t):\n",
    "    delta = 1e-7\n",
    "    return -np.sum(t*np.log(y+delta))\n",
    "\n",
    "\n",
    "def cross_entrophy_batch(y, t):\n",
    "    if y.ndim == 1:\n",
    "        t = t.reshape(1, t.size)\n",
    "        y = y.reshape(1, y.size)\n",
    "    \n",
    "    batch_size = y.shape[0]\n",
    "    return -np.sum(np.log(y[np.arange(batch_size), t] + 1e-7)) / batch_size\n",
    "\n"
   ]
  },
  {
   "cell_type": "markdown",
   "id": "4ea01be7",
   "metadata": {},
   "source": [
    "##### 크로스엔트로피는 기본적으로 두 확률 분포 사이의 차이(=거리)를 측정하는 방법이다.\n",
    "실제정답 = T , 모델이 예측한 정답 = Y 라고 해보자.\n",
    "MNIST를 예를 들어 label = 3이라고 치면 정답 레이블은 [0,0,0,1....] 이런식의 원핫인코딩된 레이블이다.\n",
    "3일 확률 100퍼센트, 아닐 확률 0퍼센트의 확률 분포 레이블인 셈.\n",
    "\n",
    "실제정답레이블이 곱해짐으로써 0퍼센트의 확률 분포는 전부 0이 된다. 즉 정답레이블이 얼마나 가깝게 예측되었는지에 따라 오차가 크고 작아진다. 예측과 실제가 비슷할수록 오차값이 작아집니다."
   ]
  },
  {
   "cell_type": "code",
   "execution_count": 25,
   "id": "ee4b46a7",
   "metadata": {},
   "outputs": [
    {
     "data": {
      "image/png": "[encoded data removed]",
      "text/plain": [
       "<Figure size 640x480 with 1 Axes>"
      ]
     },
     "metadata": {},
     "output_type": "display_data"
    }
   ],
   "source": [
    "# 수치 미분 : 해석학적 미분이 아닌 근사치를 구하는 미분\n",
    "# 경사하강법으로 가중치행렬 학습시킬 때 미분 사용해야함!\n",
    "\n",
    "def numerical_diff(func, x):\n",
    "    h = 1e-4\n",
    "    return (func(x+h)-func(x-h)) / (2*h)\n",
    "\n",
    "# 수치미분 테스트\n",
    "\n",
    "def func1(x):\n",
    "    return 0.01*x**2 + 0.1*x\n",
    "\n",
    "x = np.arange(-10.0, 10.0, 0.1)\n",
    "y = func1(x)\n",
    "\n",
    "plt.xlabel(\"x\")\n",
    "plt.ylabel(\"f(x)\")\n",
    "plt.plot(x, y)\n",
    "plt.show()    "
   ]
  },
  {
   "cell_type": "code",
   "execution_count": 26,
   "id": "568d77ea",
   "metadata": {},
   "outputs": [
    {
     "name": "stdout",
     "output_type": "stream",
     "text": [
      "0.1999999999990898\n"
     ]
    }
   ],
   "source": [
    "print(numerical_diff(func1, 5))"
   ]
  },
  {
   "cell_type": "code",
   "execution_count": 27,
   "id": "faa48570",
   "metadata": {},
   "outputs": [
    {
     "name": "stdout",
     "output_type": "stream",
     "text": [
      "7.999999999999119\n"
     ]
    }
   ],
   "source": [
    "# 편미분\n",
    "\n",
    "def func2(x):\n",
    "    return x[0]**2 + x[1]**2 # np.sum(x^^2)\n",
    "\n",
    "# 위 함수에 대한 편미분\n",
    "\n",
    "# x[1] = 3 인 경우\n",
    "def func2_x0(x):\n",
    "    return x**2 + 9\n",
    "\n",
    "result = numerical_diff(func2_x0, 4)\n",
    "print(result)"
   ]
  },
  {
   "cell_type": "code",
   "execution_count": null,
   "id": "13ad7e10",
   "metadata": {},
   "outputs": [
    {
     "name": "stdout",
     "output_type": "stream",
     "text": [
      "[6. 8.]\n"
     ]
    }
   ],
   "source": [
    "# 기울기\n",
    "# 위에서는 편미분 구할 때 하나고정시키고 하나 구하고 이런식으로 구했는데 동시에는 못 구할까?\n",
    "\n",
    "def numerical_gradient(f,x):\n",
    "    h = 1e-4\n",
    "    grad = np.zeros_like(x) # x랑 같은 형태의 제로행렬 선언\n",
    "    for idx in range(x.size):\n",
    "        tmp_val = x[idx]\n",
    "        x[idx] = tmp_val + h\n",
    "        fxh1 = f(x)\n",
    "        \n",
    "        x[idx] = tmp_val - h\n",
    "        fxh2 = f(x)\n",
    "        \n",
    "        grad[idx] = (fxh1 - fxh2) / (2*h)\n",
    "        x[idx] = tmp_val\n",
    "    \n",
    "    return grad\n",
    "\n",
    "\n",
    "# 테스트\n",
    "print(numerical_gradient(func2, np.array([3.0, 4.0])))\n"
   ]
  },
  {
   "cell_type": "code",
   "execution_count": 29,
   "id": "d428aa56",
   "metadata": {},
   "outputs": [],
   "source": [
    "# 경사 하강법.. 말 그대로 미분을 통해 함수의 전역적 최솟값의 근사치를 구하는 것이 목적이다.\n",
    "# x = x - l*(df/dx)\n",
    "\n",
    "def gradient_descent(f, init_x, lr=0.01, step_num=100):\n",
    "    x = init_x\n",
    "    for i in range(step_num): #step_num 만큼 학습률을 차감한다\n",
    "        grad = numerical_gradient(f,x)\n",
    "        x -= lr * grad\n",
    "    return x\n"
   ]
  },
  {
   "cell_type": "code",
   "execution_count": null,
   "id": "bf3171de",
   "metadata": {},
   "outputs": [
    {
     "name": "stdout",
     "output_type": "stream",
     "text": [
      "[[0. 0. 0.]\n",
      " [0. 0. 0.]]\n"
     ]
    },
    {
     "data": {
      "text/plain": [
       "6"
      ]
     },
     "execution_count": 8,
     "metadata": {},
     "output_type": "execute_result"
    }
   ],
   "source": [
    "# 신경망에서의 기울기\n",
    "cross_entrophy\n"
   ]
  },
  {
   "cell_type": "code",
   "execution_count": 31,
   "id": "d944d43d",
   "metadata": {},
   "outputs": [],
   "source": [
    "# 이제 배치단위로 학습하도록 신경망을 바꿔주고 역전파를 넣어주면 된다....\n",
    "\n",
    "# 먼저 train_set의 label을 정답인덱스만 1로 바꿔주는 원핫인코딩을 해준다. 아니, 이 과정은 배치 단위로 사용할 때 실시간으로 해준다.\n",
    "\n",
    "# 그럼 무엇을 해야하나.. batch_size = 100 으로 설정하고 100개를 임의로 뽑는다.\n",
    "\n",
    "n = 0\n",
    "epoch = 50\n",
    "batch_size = 100\n",
    "\n",
    "while n < 50:\n",
    "    batch_mask = np.random.choice(len(train_set), batch_size) #60000개의 훈련이미지에서 batch_size만큼에 해당하는 인덱스 랜덤추출\n",
    "\n",
    "    for i in range(batch_size):\n",
    "        idx = batch_mask[i]\n",
    "    \n",
    "        img, label = train_set[idx]\n",
    "        \n",
    "        \n",
    "        \n",
    "\n",
    "    n += 1\n",
    "    \n",
    "    \n",
    "\n"
   ]
  },
  {
   "cell_type": "code",
   "execution_count": 32,
   "id": "aff0afc4",
   "metadata": {},
   "outputs": [
    {
     "data": {
      "text/plain": [
       "array([ 9964, 41505,  9524, 26034,   376, 43616, 51814, 45252,   591,\n",
       "       37881, 44510, 22500, 43993, 42539, 32820, 48360, 43113, 21125,\n",
       "       41604, 27794, 10520, 27380, 12220, 58182, 17277, 41099, 24337,\n",
       "        1676,  3508,  4649, 35743, 58051,  7678, 45836,  7560, 36959,\n",
       "       55549, 34469, 40506, 42525, 31714, 32081,  3593, 22293, 43054,\n",
       "       14998, 59940, 38911, 23854, 59769, 13685,  8177, 43453,  9994,\n",
       "       12602,  6844, 10044, 12926, 36818,  9834, 55539, 20846, 47473,\n",
       "       16009, 35794, 10802, 39270, 11702, 10021, 45961,  3112, 36774,\n",
       "       40188, 16789,  8643, 15372, 32001,  5978, 58786, 14950, 50433,\n",
       "        8156, 29093, 56585, 37189, 20341, 23350, 32998, 33889, 29550,\n",
       "       20008, 53982, 47105, 13777, 20887, 30978, 56791, 52606, 51083,\n",
       "        1165], dtype=int32)"
      ]
     },
     "execution_count": 32,
     "metadata": {},
     "output_type": "execute_result"
    }
   ],
   "source": [
    "batch_mask"
   ]
  },
  {
   "cell_type": "code",
   "execution_count": null,
   "id": "fa2a74d6",
   "metadata": {},
   "outputs": [],
   "source": []
  },
  {
   "cell_type": "code",
   "execution_count": null,
   "id": "7b938aa2",
   "metadata": {},
   "outputs": [],
   "source": []
  }
 ],
 "metadata": {
  "kernelspec": {
   "display_name": "jinai",
   "language": "python",
   "name": "python3"
  },
  "language_info": {
   "codemirror_mode": {
    "name": "ipython",
    "version": 3
   },
   "file_extension": ".py",
   "mimetype": "text/x-python",
   "name": "python",
   "nbconvert_exporter": "python",
   "pygments_lexer": "ipython3",
   "version": "3.10.11"
  }
 },
 "nbformat": 4,
 "nbformat_minor": 5
}
